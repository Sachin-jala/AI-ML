{
 "cells": [
  {
   "cell_type": "code",
   "execution_count": null,
   "id": "9c9ddd71",
   "metadata": {},
   "outputs": [],
   "source": [
    "class ClassName:\n",
    "    pass\n",
    "    # Attributes (Veriables)\n",
    "    # Methods (Function)"
   ]
  },
  {
   "cell_type": "markdown",
   "id": "ec3a4aa2",
   "metadata": {},
   "source": [
    "What is Class? = A class is like a blueprint or template for creating objects.\n",
    "\n",
    "An object is an instance of a class.\n",
    "\n",
    "Classes group data (variables/attributes) and functions (methods) into a single unit.\n",
    "\n",
    "👉 In simple terms:\n",
    "\n",
    "Class = Design (like a car design).\n",
    "\n",
    "Object = Real thing built from that design (like your own car)."
   ]
  },
  {
   "cell_type": "code",
   "execution_count": null,
   "id": "ae590376",
   "metadata": {},
   "outputs": [
    {
     "name": "stdout",
     "output_type": "stream",
     "text": [
      "Hi, I am Sachin, and I am 20 yours old\n",
      "Hi, I am Nabin, and I am 20 yours old\n"
     ]
    }
   ],
   "source": [
    "# Example 1\n",
    "class person :\n",
    "    def __init__(self, name, age):\n",
    "        self.name = name\n",
    "        self.age = age\n",
    "\n",
    "    def greet(self):\n",
    "        print(f\"Hi, I am {self.name}, and I am {self.age} yours old\")\n"
   ]
  },
  {
   "cell_type": "code",
   "execution_count": 2,
   "id": "7a73847c",
   "metadata": {},
   "outputs": [
    {
     "name": "stdout",
     "output_type": "stream",
     "text": [
      "Hi, I am Sachin, and I am 20 yours old\n",
      "Hi, I am Nabin, and I am 20 yours old\n"
     ]
    }
   ],
   "source": [
    "# Example 2\n",
    "class person :\n",
    "    def __init__(self, name, age):\n",
    "        self.name = name\n",
    "        self.age = age\n",
    "\n",
    "    def greet(self):\n",
    "        print(f\"Hi, I am {self.name}, and I am {self.age} yours old\")\n",
    "\n",
    "p1 = person(\"Sachin\", 20)\n",
    "p2 = person(\"Nabin\", 20)\n",
    "\n",
    "p1.greet()\n",
    "p2.greet()"
   ]
  },
  {
   "cell_type": "markdown",
   "id": "de9c4098",
   "metadata": {},
   "source": [
    "Creating Object trhough Class"
   ]
  },
  {
   "cell_type": "code",
   "execution_count": null,
   "id": "212556d5",
   "metadata": {},
   "outputs": [],
   "source": [
    "#Example 3\n",
    "class Car:\n",
    "    wheels = 4   # class attribute (same for all cars)\n",
    "\n",
    "    def __init__(self, brand, model):\n",
    "        self.brand = brand      # instance attribute\n",
    "        self.model = model\n",
    "\n",
    "    def info(self):   # instance method\n",
    "        print(f\"{self.brand} {self.model} has {Car.wheels} wheels.\")\n",
    "\n",
    "car1 = Car(\"Toyota\", \"Corolla\")\n",
    "car2 = Car(\"Tesla\", \"Model 3\")\n",
    "\n",
    "car1.info()   # Toyota Corolla has 4 wheels.\n",
    "car2.info()   # Tesla Model 3 has 4 wheels.\n"
   ]
  },
  {
   "cell_type": "markdown",
   "id": "e3a6b60e",
   "metadata": {},
   "source": [
    "Class with Attribute & Method"
   ]
  }
 ],
 "metadata": {
  "kernelspec": {
   "display_name": "base",
   "language": "python",
   "name": "python3"
  },
  "language_info": {
   "codemirror_mode": {
    "name": "ipython",
    "version": 3
   },
   "file_extension": ".py",
   "mimetype": "text/x-python",
   "name": "python",
   "nbconvert_exporter": "python",
   "pygments_lexer": "ipython3",
   "version": "3.12.7"
  }
 },
 "nbformat": 4,
 "nbformat_minor": 5
}
