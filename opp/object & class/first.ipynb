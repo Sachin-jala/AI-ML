{
 "cells": [
  {
   "cell_type": "markdown",
   "id": "cb394181",
   "metadata": {},
   "source": [
    "Object = An object is an instance of a class.\n",
    "\n",
    "If a class is a blueprint (design), then an object is the real thing created from it.\n",
    "\n",
    "Each object has:\n",
    "\n",
    "State (attributes / variables)\n",
    "\n",
    "Behavior (methods / functions)\n",
    "\n",
    "👉 In short:\n",
    "Class = Plan\n",
    "Object = Actual Product"
   ]
  },
  {
   "cell_type": "markdown",
   "id": "8bb5c3f0",
   "metadata": {},
   "source": [
    "Class = A class is like a blueprint or template for creating objects.\n",
    "\n",
    "An object is an instance of a class.\n",
    "\n",
    "Classes group data (variables/attributes) and functions (methods) into a single unit.\n",
    "\n",
    "👉 In simple terms:\n",
    "\n",
    "Class = Design (like a car design).\n",
    "\n",
    "Object = Real thing built from that design (like your own car)."
   ]
  },
  {
   "cell_type": "markdown",
   "id": "6f6ee84a",
   "metadata": {},
   "source": [
    "Self = In Python, self represents the instance of the class (the object itself).\n",
    "\n",
    "When you create an object from a class, self lets you access the attributes (variables) and methods (functions) of that specific object.\n",
    "\n",
    "It’s like saying: “this object I’m working with right now.”\n",
    "\n",
    "🔹 Why do we need self?\n",
    "\n",
    "To differentiate instance variables (object-specific) from local variables inside a method.\n",
    "\n",
    "To let each object keep its own data.\n",
    "\n",
    "To call other methods of the same class."
   ]
  },
  {
   "cell_type": "code",
   "execution_count": 9,
   "id": "04f5dbe9",
   "metadata": {},
   "outputs": [
    {
     "name": "stdout",
     "output_type": "stream",
     "text": [
      "This is display function\n",
      "this is second function\n"
     ]
    }
   ],
   "source": [
    "class sample:\n",
    "    def display(self):\n",
    "        print(\"This is display function\")\n",
    "    def mydisplay(self):\n",
    "        print(\"this is second function\")\n",
    "\n",
    "obj = sample()\n",
    "obj1 = sample()\n",
    "obj.display()\n",
    "obj1.mydisplay()"
   ]
  }
 ],
 "metadata": {
  "kernelspec": {
   "display_name": "base",
   "language": "python",
   "name": "python3"
  },
  "language_info": {
   "codemirror_mode": {
    "name": "ipython",
    "version": 3
   },
   "file_extension": ".py",
   "mimetype": "text/x-python",
   "name": "python",
   "nbconvert_exporter": "python",
   "pygments_lexer": "ipython3",
   "version": "3.12.7"
  }
 },
 "nbformat": 4,
 "nbformat_minor": 5
}
